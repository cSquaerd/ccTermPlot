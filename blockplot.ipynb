{
 "cells": [
  {
   "cell_type": "code",
   "execution_count": 1,
   "id": "9770e56d-2508-4028-b8c7-f11169aae466",
   "metadata": {},
   "outputs": [
    {
     "data": {
      "text/plain": [
       "'\\\\u9600'"
      ]
     },
     "execution_count": 1,
     "metadata": {},
     "output_type": "execute_result"
    }
   ],
   "source": [
    "'\\\\u{:04d}'.format(0x2580)"
   ]
  },
  {
   "cell_type": "code",
   "execution_count": 2,
   "id": "525523bb-357e-411d-8783-b146ea1ca9b7",
   "metadata": {},
   "outputs": [
    {
     "data": {
      "text/plain": [
       "'▀'"
      ]
     },
     "execution_count": 2,
     "metadata": {},
     "output_type": "execute_result"
    }
   ],
   "source": [
    "chr(0x2580)"
   ]
  },
  {
   "cell_type": "code",
   "execution_count": 3,
   "id": "2e8a0f57-7027-41cf-aa6f-6a02875b5fde",
   "metadata": {},
   "outputs": [
    {
     "data": {
      "text/plain": [
       "' ▁▂▃▄▅▆▇'"
      ]
     },
     "execution_count": 3,
     "metadata": {},
     "output_type": "execute_result"
    }
   ],
   "source": [
    "' ' + ''.join([chr(n) for n in range(0x2581, 0x2588)])"
   ]
  },
  {
   "cell_type": "code",
   "execution_count": 4,
   "id": "7c0053c8-2862-4547-abc5-4ee56ae03d63",
   "metadata": {},
   "outputs": [
    {
     "name": "stdout",
     "output_type": "stream",
     "text": [
      " \n",
      "▏\n",
      "▎\n",
      "▍\n",
      "▌\n",
      "▋\n",
      "▊\n",
      "▉\n",
      "█\n"
     ]
    }
   ],
   "source": [
    "print(\" \\n\" + '\\n'.join([chr(n) for n in range(0x258F, 0x2587, -1)]))"
   ]
  },
  {
   "cell_type": "code",
   "execution_count": 5,
   "id": "dfb08ffd-2ff8-40ba-bbec-6ee0c1a6a439",
   "metadata": {},
   "outputs": [],
   "source": [
    "import numpy as np"
   ]
  },
  {
   "cell_type": "code",
   "execution_count": 6,
   "id": "88e14b40-c5a2-4669-aaaf-7df3bc78c75a",
   "metadata": {},
   "outputs": [
    {
     "data": {
      "text/plain": [
       "array([-4.  , -3.75, -3.5 , -3.25, -3.  , -2.75, -2.5 , -2.25, -2.  ,\n",
       "       -1.75, -1.5 , -1.25, -1.  , -0.75, -0.5 , -0.25,  0.  ,  0.25,\n",
       "        0.5 ,  0.75,  1.  ,  1.25,  1.5 ,  1.75,  2.  ,  2.25,  2.5 ,\n",
       "        2.75,  3.  ,  3.25,  3.5 ,  3.75,  4.  ])"
      ]
     },
     "execution_count": 6,
     "metadata": {},
     "output_type": "execute_result"
    }
   ],
   "source": [
    "X = np.arange(-4., 4.25, 0.25)\n",
    "X"
   ]
  },
  {
   "cell_type": "code",
   "execution_count": 7,
   "id": "4ebbdb92-e2a8-48b8-a9f2-0bf7d3f1a8d4",
   "metadata": {},
   "outputs": [
    {
     "data": {
      "text/plain": [
       "array([16.    , 14.0625, 12.25  , 10.5625,  9.    ,  7.5625,  6.25  ,\n",
       "        5.0625,  4.    ,  3.0625,  2.25  ,  1.5625,  1.    ,  0.5625,\n",
       "        0.25  ,  0.0625,  0.    ,  0.0625,  0.25  ,  0.5625,  1.    ,\n",
       "        1.5625,  2.25  ,  3.0625,  4.    ,  5.0625,  6.25  ,  7.5625,\n",
       "        9.    , 10.5625, 12.25  , 14.0625, 16.    ])"
      ]
     },
     "execution_count": 7,
     "metadata": {},
     "output_type": "execute_result"
    }
   ],
   "source": [
    "Y = X * X\n",
    "Y"
   ]
  },
  {
   "cell_type": "code",
   "execution_count": 8,
   "id": "1878a346-e6be-4f57-80e7-a90c1d614808",
   "metadata": {},
   "outputs": [
    {
     "data": {
      "text/plain": [
       "np.int64(16)"
      ]
     },
     "execution_count": 8,
     "metadata": {},
     "output_type": "execute_result"
    }
   ],
   "source": [
    "np.round(16.3).astype(int)"
   ]
  },
  {
   "cell_type": "code",
   "execution_count": 78,
   "id": "2d7f3b09-f738-4fd4-81ab-513736c33ec0",
   "metadata": {},
   "outputs": [],
   "source": [
    "def blockplot(\n",
    "    Y : np.array, X : np.array, limits : bool = True, perzero : bool = False,\n",
    "    x_limits : tuple = None, Y2 : np.array = None\n",
    ") -> str:\n",
    "    if Y.ndim != 1 or X.ndim != 1 or (Y2 is not None and Y2.ndim != 1):\n",
    "        return \"Inputs are not one-dimensional\"\n",
    "    elif Y.size != X.size or (Y2 is not None and Y2.size != X.size):\n",
    "        return \"Inputs are not the same size\"\n",
    "\n",
    "    if Y2 is not None:\n",
    "        double_mode = True\n",
    "    else:\n",
    "        double_mode = False\n",
    "\n",
    "    color1 = 21\n",
    "    color2 = 93\n",
    "\n",
    "    color1_prefix = \"\\x1B[38;5;{:d}m\".format(color1)\n",
    "    color2_prefix = \"\\x1B[38;5;{:d}m\".format(color2)\n",
    "    colors = (color1_prefix, color2_prefix)\n",
    "    \n",
    "    color1_to_2 = \"\\x1B[38;5;{:d};48;5;{:d}m\".format(color1, color2)\n",
    "    color2_to_1 = \"\\x1B[38;5;{:d};48;5;{:d}m\".format(color2, color1)\n",
    "    color_changes = (color1_to_2, color2_to_1) # index with smaller\n",
    "    \n",
    "    color_clear = \"\\x1B[0m\"\n",
    "    color_reverse = \"\\x1B[7m\"\n",
    "\n",
    "    if double_mode:\n",
    "        ymin = min(np.min(Y), np.min(Y2))\n",
    "        ymax = max(np.max(Y), np.max(Y2))\n",
    "    else:\n",
    "        ymin = np.min(Y)\n",
    "        ymax = np.max(Y)\n",
    "\n",
    "    if perzero:\n",
    "        yrange = np.max(np.array([ymax - 0., ymax - ymin, 0 - ymin]))\n",
    "    else:\n",
    "        yrange = ymax - ymin\n",
    "        Y -= ymin\n",
    "\n",
    "    assert np.round(yrange, 3) != 0.\n",
    "\n",
    "    blocks = [[' ' for x in range(X.size)] for y in range(round(yrange))]\n",
    "    chars = ' ' + ''.join([chr(c) for c in range(0x2581, 0x2588)])\n",
    "    #print(chars)heroes\n",
    "\n",
    "    if double_mode:\n",
    "        T = np.vstack((np.copy(Y), np.copy(Y2)))\n",
    "    else:\n",
    "        T = np.copy(Y)\n",
    "\n",
    "    if perzero:\n",
    "        print(\"top\")\n",
    "        for y in range(max(round(ymax), 0) - 1, -1, -1):\n",
    "            print(y)\n",
    "            for x in range(X.size):\n",
    "                if double_mode:\n",
    "                    i = smaller[x]\n",
    "                    j = bigger[x]\n",
    "\n",
    "                    if T[i, x] >= 1.:\n",
    "                        blocks[y][x] = colors[i] + '\\u2588' + color_clear\n",
    "                        T[:, x] -= 1.\n",
    "                    elif T[i, x] >= 0.:\n",
    "                        change = color_changes[i]\n",
    "                        blocks[y][x] = change + chars[int(8 * T[i, x])] + color_clear\n",
    "                        T[i, x] = float(\"NaN\")\n",
    "                        if T[j, x] < 1.:\n",
    "                            T[j, x] = float(\"NaN\")\n",
    "                    elif T[j, x] >= 1.:\n",
    "                        blocks[y][x] = colors[j] + '\\u2588' + color_clear\n",
    "                        T[:, x] -= 1.\n",
    "                    elif T[j, x] >= 0:\n",
    "                        blocks[y][x] = colors[j] + chars[int(8 * T[j, x])] + color_clear\n",
    "                        T[j, x] = float(\"NaN\")\n",
    "                        \n",
    "                else:\n",
    "                    if T[x] >= 1.:\n",
    "                        blocks[y][x] = '\\u2588'\n",
    "                        T[x] -= 1.\n",
    "                    elif T[x] >= 0.:\n",
    "                        blocks[y][x] = chars[int(8 * T[x])]\n",
    "                        T[x] = float(\"NaN\")\n",
    "            #if double_mode:\n",
    "            #    print(T)\n",
    "        print(\"bottom\")\n",
    "        for y in range(max(round(ymax), 0), len(blocks)):\n",
    "            print(y)\n",
    "            for x in range(X.size):\n",
    "                if double_mode:\n",
    "                    pass\n",
    "                else:\n",
    "                    if T[x] <= -1.:\n",
    "                        blocks[y][x] = '\\u2588'\n",
    "                        T[x] += 1.\n",
    "                    elif T[x] <= 0.:\n",
    "                        blocks[y][x] = color_reverse + chars[7 - int(8 * T[x] * -1)] + color_clear\n",
    "                        T[x] = float(\"NaN\")\n",
    "    else:\n",
    "        for y in range(len(blocks) - 1, -1, -1):\n",
    "            #print(y)\n",
    "            for x in range(X.size):\n",
    "                if double_mode:\n",
    "                    pass\n",
    "                else:\n",
    "                    if T[x] >= 1.:\n",
    "                        blocks[y][x] = '\\u2588'\n",
    "                        T[x] -= 1.\n",
    "                    elif T[x] >= 0.:\n",
    "                        #print(T[x])\n",
    "                        blocks[y][x] = chars[int(8 * T[x])]\n",
    "                        T[x] = float(\"NaN\")\n",
    "    \n",
    "    if limits:\n",
    "        for i in range(round(yrange)):\n",
    "            blocks[i].insert(0, \"        \")\n",
    "\n",
    "        if perzero:\n",
    "            blocks[0][0] = \"{: ^7.2F} \".format(max(ymax, 0.))\n",
    "            blocks[-1][0] = \"{: ^7.2F} \".format(min(ymin, 0.))\n",
    "        else:\n",
    "            blocks[0][0] = \"{: ^7.2F} \".format(ymax)\n",
    "            blocks[-1][0] = \"{: ^7.2F} \".format(ymin)\n",
    "        \n",
    "        blocks.append(\n",
    "            [\"        \", \"{: <7.2F} \".format(np.min(X)), ' ' * max(X.size - 16, 0), \" {: >7.2F}\".format(np.max(X))]\n",
    "        )\n",
    "        if x_limits is not None and len(x_limits) == 2:\n",
    "            blocks[-1][1] = \"{: <8s}\".format(x_limits[0][:8])\n",
    "            blocks[-1][3] = \"{: >8s}\".format(x_limits[1][:8])\n",
    "    \n",
    "    return '\\n'.join([''.join([char for char in line]) for line in blocks])"
   ]
  },
  {
   "cell_type": "code",
   "execution_count": 79,
   "id": "655a1722-7df8-40f0-a6f7-6fbe5e41c97c",
   "metadata": {},
   "outputs": [
    {
     "data": {
      "text/plain": [
       "array([16.    , 14.0625, 12.25  , 10.5625,  9.    ,  7.5625,  6.25  ,\n",
       "        5.0625,  4.    ,  3.0625,  2.25  ,  1.5625,  1.    ,  0.5625,\n",
       "        0.25  ,  0.0625,  0.    ,  0.0625,  0.25  ,  0.5625,  1.    ,\n",
       "        1.5625,  2.25  ,  3.0625,  4.    ,  5.0625,  6.25  ,  7.5625,\n",
       "        9.    , 10.5625, 12.25  , 14.0625, 16.    ])"
      ]
     },
     "execution_count": 79,
     "metadata": {},
     "output_type": "execute_result"
    }
   ],
   "source": [
    "Y"
   ]
  },
  {
   "cell_type": "code",
   "execution_count": 80,
   "id": "592a1fc4-7e09-4393-8a52-5999fdf2a2c4",
   "metadata": {},
   "outputs": [
    {
     "data": {
      "text/plain": [
       "array([-4.  , -3.75, -3.5 , -3.25, -3.  , -2.75, -2.5 , -2.25, -2.  ,\n",
       "       -1.75, -1.5 , -1.25, -1.  , -0.75, -0.5 , -0.25,  0.  ,  0.25,\n",
       "        0.5 ,  0.75,  1.  ,  1.25,  1.5 ,  1.75,  2.  ,  2.25,  2.5 ,\n",
       "        2.75,  3.  ,  3.25,  3.5 ,  3.75,  4.  ])"
      ]
     },
     "execution_count": 80,
     "metadata": {},
     "output_type": "execute_result"
    }
   ],
   "source": [
    "X"
   ]
  },
  {
   "cell_type": "code",
   "execution_count": 81,
   "id": "7c3091d2-0fe4-4708-a0d1-ceb52b9e2353",
   "metadata": {},
   "outputs": [
    {
     "name": "stdout",
     "output_type": "stream",
     "text": [
      " 14.00  █                               █\n",
      "        █                               █\n",
      "        ██                             ██\n",
      "        ██▂                           ▂██\n",
      "        ███                           ███\n",
      "        ███▄                         ▄███\n",
      "        ████                         ████\n",
      "        █████                       █████\n",
      "        █████▄                     ▄█████\n",
      "        ██████▂                   ▂██████\n",
      "        ███████                   ███████\n",
      "        ████████                 ████████\n",
      "        █████████               █████████\n",
      "        ██████████▂           ▂██████████\n",
      "        ███████████▄         ▄███████████\n",
      " -2.00  █████████████▄▂   ▂▄█████████████\n",
      "        -4.00                        4.00\n"
     ]
    }
   ],
   "source": [
    "print(blockplot(Y - 2., X))"
   ]
  },
  {
   "cell_type": "code",
   "execution_count": 82,
   "id": "dccc99ea-c71d-4242-8690-390d4a63b964",
   "metadata": {},
   "outputs": [
    {
     "name": "stdout",
     "output_type": "stream",
     "text": [
      " 14.99                      ▁▅▇▇▄        \n",
      "        ▆                  ▃█████▇       \n",
      "        █▆                ▃███████▇      \n",
      "        ██▅              ▁█████████▇     \n",
      "        ███▄             ███████████▅    \n",
      "        ████▂           ▇████████████▃   \n",
      "        █████          ▆██████████████▁  \n",
      "        ██████        ▄████████████████▁ \n",
      "        ██████▇      ▄██████████████████▁\n",
      " 5.01   ████████▃  ▁▆████████████████████\n",
      "        foo                           bar\n"
     ]
    }
   ],
   "source": [
    "print(blockplot(5. * np.sin(X) + 10., X, x_limits = (\"foo\", \"bar\")))"
   ]
  },
  {
   "cell_type": "code",
   "execution_count": 83,
   "id": "59bbd845-a0a1-4a13-9095-fd58465a81ae",
   "metadata": {},
   "outputs": [
    {
     "name": "stdout",
     "output_type": "stream",
     "text": [
      "top\n",
      "14\n",
      "13\n",
      "12\n",
      "11\n",
      "10\n",
      "9\n",
      "8\n",
      "7\n",
      "6\n",
      "5\n",
      "4\n",
      "3\n",
      "2\n",
      "1\n",
      "0\n",
      "bottom\n",
      " 14.99                      ▁▅▇▇▄        \n",
      "        ▆                  ▃█████▇       \n",
      "        █▆                ▃███████▇      \n",
      "        ██▆              ▁█████████▇     \n",
      "        ███▄             ███████████▅    \n",
      "        ████▂           █████████████▃   \n",
      "        █████          ▆██████████████▁  \n",
      "        ██████        ▄████████████████▁ \n",
      "        ███████      ▄██████████████████▁\n",
      "        ████████▃  ▂▆████████████████████\n",
      "        █████████████████████████████████\n",
      "        █████████████████████████████████\n",
      "        █████████████████████████████████\n",
      "        █████████████████████████████████\n",
      " 0.00   █████████████████████████████████\n",
      "        snafu                    gambolpu\n"
     ]
    }
   ],
   "source": [
    "print(blockplot(5. * np.sin(X) + 10., X, x_limits = (\"snafu\", \"gambolputty\"), perzero = True))"
   ]
  },
  {
   "cell_type": "code",
   "execution_count": 84,
   "id": "1b94cfcd-59ee-46e9-964c-2f02f7ed0d0c",
   "metadata": {},
   "outputs": [
    {
     "name": "stdout",
     "output_type": "stream",
     "text": [
      "top\n",
      "bottom\n",
      "0\n",
      "1\n",
      "2\n",
      "3\n",
      "4\n",
      "5\n",
      "6\n",
      "7\n",
      "8\n",
      "9\n",
      "10\n",
      "11\n",
      "12\n",
      "13\n",
      "14\n",
      " 0.00   █████████████████████████████████\n",
      "        █████████████████████████████████\n",
      "        █████████████████████████████████\n",
      "        █████████████████████████████████\n",
      "        █████████████████████████████████\n",
      "        ████████████████████\u001b[7m▁\u001b[0m\u001b[7m▅\u001b[0m\u001b[7m▇\u001b[0m\u001b[7m▇\u001b[0m\u001b[7m▄\u001b[0m████████\n",
      "        \u001b[7m▆\u001b[0m██████████████████\u001b[7m▃\u001b[0m     \u001b[7m▇\u001b[0m███████\n",
      "         \u001b[7m▆\u001b[0m████████████████\u001b[7m▃\u001b[0m       \u001b[7m▇\u001b[0m██████\n",
      "          \u001b[7m▆\u001b[0m██████████████\u001b[7m▁\u001b[0m         \u001b[7m▇\u001b[0m█████\n",
      "           \u001b[7m▄\u001b[0m█████████████           \u001b[7m▅\u001b[0m████\n",
      "            \u001b[7m▂\u001b[0m███████████\u001b[7m▇\u001b[0m            \u001b[7m▃\u001b[0m███\n",
      "             \u001b[7m \u001b[0m█████████\u001b[7m▆\u001b[0m              \u001b[7m▁\u001b[0m██\n",
      "              \u001b[7m \u001b[0m███████\u001b[7m▄\u001b[0m                \u001b[7m▁\u001b[0m█\n",
      "               \u001b[7m \u001b[0m█████\u001b[7m▄\u001b[0m                  \u001b[7m▁\u001b[0m\n",
      "-14.99          \u001b[7m▃\u001b[0m\u001b[7m \u001b[0m\u001b[7m \u001b[0m\u001b[7m▂\u001b[0m\u001b[7m▆\u001b[0m                    \n",
      "        -4.00                        4.00\n"
     ]
    }
   ],
   "source": [
    "print(blockplot(5. * np.sin(X) - 10., X, perzero = True))"
   ]
  },
  {
   "cell_type": "code",
   "execution_count": 85,
   "id": "0e3dbe07-47e0-4f50-84f8-334e8ce961f0",
   "metadata": {},
   "outputs": [
    {
     "name": "stdout",
     "output_type": "stream",
     "text": [
      " -5.01                      ▁▅▇▇▄        \n",
      "        ▆                  ▃█████▇       \n",
      "        █▆                ▃███████▇      \n",
      "        ██▅              ▁█████████▇     \n",
      "        ███▄             ███████████▅    \n",
      "        ████▂           ▇████████████▃   \n",
      "        █████          ▆██████████████▁  \n",
      "        ██████        ▄████████████████▁ \n",
      "        ██████▇      ▄██████████████████▁\n",
      "-14.99  ████████▃  ▁▆████████████████████\n",
      "        -4.00                        4.00\n"
     ]
    }
   ],
   "source": [
    "print(blockplot(5. * np.sin(X) - 10., X, perzero = False))"
   ]
  },
  {
   "cell_type": "code",
   "execution_count": 86,
   "id": "ba749c46-9655-4bcb-98df-f2153063919e",
   "metadata": {},
   "outputs": [
    {
     "data": {
      "text/plain": [
       "array([11.02720998, 10.28624527,  9.40313291,  8.43278054,  7.43551997,\n",
       "        6.47335603,  5.60611142,  4.88770721,  4.36281029,  4.06405621,\n",
       "        4.01002005,  4.20406152,  4.63411606,  5.27344496,  6.08229785,\n",
       "        7.01038416,  8.        ,  8.98961584,  9.91770215, 10.72655504,\n",
       "       11.36588394, 11.79593848, 11.98997995, 11.93594379, 11.63718971,\n",
       "       11.11229279, 10.39388858,  9.52664397,  8.56448003,  7.56721946,\n",
       "        6.59686709,  5.71375473,  4.97279002])"
      ]
     },
     "execution_count": 86,
     "metadata": {},
     "output_type": "execute_result"
    }
   ],
   "source": [
    "4. * np.sin(X) + 8."
   ]
  },
  {
   "cell_type": "code",
   "execution_count": 87,
   "id": "1083c5be-378f-4dac-a589-19b8a112a9ee",
   "metadata": {},
   "outputs": [
    {
     "name": "stdout",
     "output_type": "stream",
     "text": [
      " 4.99                       ▁▅▇▇▄        \n",
      "        ▆                  ▃█████▇       \n",
      "        █▆                ▃███████▇      \n",
      "        ██▅              ▁█████████▇     \n",
      "        ███▄             ███████████▅    \n",
      "        ████▂           ▇████████████▃   \n",
      "        █████          ▆██████████████▁  \n",
      "        ██████        ▄████████████████▁ \n",
      "        ██████▇      ▄██████████████████▁\n",
      " -4.99  ████████▃  ▁▆████████████████████\n",
      "        -4.00                        4.00\n"
     ]
    }
   ],
   "source": [
    "print(blockplot(5 * np.sin(X), X))"
   ]
  },
  {
   "cell_type": "code",
   "execution_count": 88,
   "id": "7e78bf30-1a5b-4547-89f2-f5948feec8eb",
   "metadata": {},
   "outputs": [
    {
     "name": "stdout",
     "output_type": "stream",
     "text": [
      "top\n",
      "4\n",
      "3\n",
      "2\n",
      "1\n",
      "0\n",
      "bottom\n",
      "5\n",
      "6\n",
      "7\n",
      "8\n",
      "9\n",
      " 4.99                       ▁▅▇▇▄        \n",
      "        ▆                  ▃█████▇       \n",
      "        █▆                ▃███████▇      \n",
      "        ██▆              ▁█████████▇     \n",
      "        ███▄             ███████████▅    \n",
      "            \u001b[7m▂\u001b[0m███████████             \u001b[7m▃\u001b[0m███\n",
      "             \u001b[7m \u001b[0m█████████\u001b[7m▆\u001b[0m              \u001b[7m▁\u001b[0m██\n",
      "              \u001b[7m \u001b[0m███████\u001b[7m▄\u001b[0m                \u001b[7m▁\u001b[0m█\n",
      "               \u001b[7m \u001b[0m█████\u001b[7m▄\u001b[0m                  \u001b[7m▁\u001b[0m\n",
      " -4.99          \u001b[7m▃\u001b[0m\u001b[7m \u001b[0m\u001b[7m \u001b[0m\u001b[7m▂\u001b[0m\u001b[7m▆\u001b[0m                    \n",
      "        -4.00                        4.00\n"
     ]
    }
   ],
   "source": [
    "print(blockplot(5 * np.sin(X), X, perzero = True))"
   ]
  },
  {
   "cell_type": "code",
   "execution_count": 89,
   "id": "c42d40c6-3125-48c9-a883-2b6edac49b57",
   "metadata": {},
   "outputs": [
    {
     "name": "stdout",
     "output_type": "stream",
     "text": [
      "top\n",
      "bottom\n",
      "0\n",
      "1\n",
      "2\n",
      "3\n",
      "4\n",
      "5\n",
      "6\n",
      "7\n",
      "8\n",
      "9\n",
      "10\n",
      "11\n",
      " 0.00   █████████████████████████████████\n",
      "        █████████████████████████████████\n",
      "        ████████████████████\u001b[7m▁\u001b[0m\u001b[7m▅\u001b[0m\u001b[7m▇\u001b[0m\u001b[7m▇\u001b[0m\u001b[7m▄\u001b[0m████████\n",
      "        \u001b[7m▆\u001b[0m██████████████████\u001b[7m▃\u001b[0m     \u001b[7m▇\u001b[0m███████\n",
      "         \u001b[7m▆\u001b[0m████████████████\u001b[7m▃\u001b[0m       \u001b[7m▇\u001b[0m██████\n",
      "          \u001b[7m▆\u001b[0m██████████████\u001b[7m▁\u001b[0m         \u001b[7m▇\u001b[0m█████\n",
      "           \u001b[7m▄\u001b[0m█████████████           \u001b[7m▅\u001b[0m████\n",
      "            \u001b[7m▂\u001b[0m███████████\u001b[7m▇\u001b[0m            \u001b[7m▃\u001b[0m███\n",
      "             \u001b[7m \u001b[0m█████████\u001b[7m▆\u001b[0m              \u001b[7m▁\u001b[0m██\n",
      "              \u001b[7m \u001b[0m███████\u001b[7m▄\u001b[0m                \u001b[7m▁\u001b[0m█\n",
      "               \u001b[7m \u001b[0m█████\u001b[7m▄\u001b[0m                  \u001b[7m▁\u001b[0m\n",
      "-11.99          \u001b[7m▃\u001b[0m\u001b[7m \u001b[0m\u001b[7m \u001b[0m\u001b[7m▂\u001b[0m\u001b[7m▆\u001b[0m                    \n",
      "        -4.00                        4.00\n"
     ]
    }
   ],
   "source": [
    "print(blockplot(5 * np.sin(X) - 7., X, perzero = True))"
   ]
  },
  {
   "cell_type": "code",
   "execution_count": 90,
   "id": "38a8cad0-5652-4fc9-b641-1498ba4e1c51",
   "metadata": {},
   "outputs": [
    {
     "name": "stdout",
     "output_type": "stream",
     "text": [
      "top\n",
      "11\n",
      "10\n",
      "9\n",
      "8\n",
      "7\n",
      "6\n",
      "5\n",
      "4\n",
      "3\n",
      "2\n",
      "1\n",
      "0\n",
      "bottom\n",
      " 11.99                      ▁▅▇▇▄        \n",
      "        ▆                  ▃█████▇       \n",
      "        █▆                ▃███████▇      \n",
      "        ██▆              ▁█████████▇     \n",
      "        ███▄             ███████████▅    \n",
      "        ████▂           █████████████▃   \n",
      "        █████          ▆██████████████▁  \n",
      "        ██████        ▄████████████████▁ \n",
      "        ███████      ▄██████████████████▁\n",
      "        ████████▃  ▂▆████████████████████\n",
      "        █████████████████████████████████\n",
      " 0.00   █████████████████████████████████\n",
      "        -4.00                        4.00\n"
     ]
    }
   ],
   "source": [
    "print(blockplot(5 * np.sin(X) + 7., X, perzero = True))"
   ]
  },
  {
   "cell_type": "code",
   "execution_count": 91,
   "id": "45dc7612-7739-42d4-b9f5-db9165b9aaf5",
   "metadata": {},
   "outputs": [
    {
     "data": {
      "text/plain": [
       "' ▁▂▃▄▅▆▇'"
      ]
     },
     "execution_count": 91,
     "metadata": {},
     "output_type": "execute_result"
    }
   ],
   "source": [
    "chars = ' ' + ''.join([chr(n) for n in range(0x2581, 0x2588)])\n",
    "chars"
   ]
  },
  {
   "cell_type": "code",
   "execution_count": 92,
   "id": "26832e67-b348-4e12-b386-77989bfa1d4f",
   "metadata": {},
   "outputs": [
    {
     "name": "stdout",
     "output_type": "stream",
     "text": [
      "\u001b[7m ▁▂▃▄▅▆▇\u001b[0m\n"
     ]
    }
   ],
   "source": [
    "print(\"\\x1B[7m\" + chars + \"\\x1B[0m\")"
   ]
  },
  {
   "cell_type": "code",
   "execution_count": 100,
   "id": "a72daae0-3ec2-47c6-9f5f-a586699ac592",
   "metadata": {},
   "outputs": [
    {
     "name": "stdout",
     "output_type": "stream",
     "text": [
      "top\n",
      "15\n",
      "14\n",
      "13\n",
      "12\n",
      "11\n",
      "10\n",
      "9\n",
      "8\n",
      "7\n",
      "6\n",
      "5\n",
      "4\n",
      "3\n",
      "2\n",
      "1\n",
      "0\n",
      "bottom\n",
      " 16.00  \u001b[38;5;21m█\u001b[0m\u001b[38;5;21m \u001b[0m                             \u001b[38;5;21m \u001b[0m\u001b[38;5;21m█\u001b[0m\n",
      "        \u001b[38;5;21m█\u001b[0m\u001b[38;5;21m█\u001b[0m                             \u001b[38;5;21m█\u001b[0m\u001b[38;5;21m█\u001b[0m\n",
      "        \u001b[38;5;21m█\u001b[0m\u001b[38;5;21m█\u001b[0m\u001b[38;5;21m▂\u001b[0m                           \u001b[38;5;21m▂\u001b[0m\u001b[38;5;21m█\u001b[0m\u001b[38;5;21m█\u001b[0m\n",
      "        \u001b[38;5;21m█\u001b[0m\u001b[38;5;21m█\u001b[0m\u001b[38;5;21m█\u001b[0m                           \u001b[38;5;21m█\u001b[0m\u001b[38;5;21m█\u001b[0m\u001b[38;5;21m█\u001b[0m\n",
      "        \u001b[38;5;21m█\u001b[0m\u001b[38;5;21m█\u001b[0m\u001b[38;5;21m█\u001b[0m\u001b[38;5;21m▄\u001b[0m                         \u001b[38;5;21m▄\u001b[0m\u001b[38;5;21m█\u001b[0m\u001b[38;5;21m█\u001b[0m\u001b[38;5;21m█\u001b[0m\n",
      "        \u001b[38;5;21m█\u001b[0m\u001b[38;5;21m█\u001b[0m\u001b[38;5;21m█\u001b[0m\u001b[38;5;21m█\u001b[0m\u001b[38;5;21m \u001b[0m                       \u001b[38;5;21m \u001b[0m\u001b[38;5;21m█\u001b[0m\u001b[38;5;21m█\u001b[0m\u001b[38;5;21m█\u001b[0m\u001b[38;5;21m█\u001b[0m\n",
      "        \u001b[38;5;21m█\u001b[0m\u001b[38;5;21m█\u001b[0m\u001b[38;5;21m█\u001b[0m\u001b[38;5;21m█\u001b[0m\u001b[38;5;21m█\u001b[0m                       \u001b[38;5;21m█\u001b[0m\u001b[38;5;21m█\u001b[0m\u001b[38;5;21m█\u001b[0m\u001b[38;5;21m█\u001b[0m\u001b[38;5;21m█\u001b[0m\n",
      "        \u001b[38;5;93;48;5;21m \u001b[0m\u001b[38;5;21m█\u001b[0m\u001b[38;5;21m█\u001b[0m\u001b[38;5;21m█\u001b[0m\u001b[38;5;21m█\u001b[0m\u001b[38;5;21m▄\u001b[0m                     \u001b[38;5;21m▄\u001b[0m\u001b[38;5;21m█\u001b[0m\u001b[38;5;21m█\u001b[0m\u001b[38;5;21m█\u001b[0m\u001b[38;5;21m█\u001b[0m\u001b[38;5;93;48;5;21m \u001b[0m\n",
      "        \u001b[38;5;93m█\u001b[0m\u001b[38;5;93;48;5;21m▄\u001b[0m\u001b[38;5;93;48;5;21m \u001b[0m\u001b[38;5;21m█\u001b[0m\u001b[38;5;21m█\u001b[0m\u001b[38;5;21m█\u001b[0m\u001b[38;5;21m▂\u001b[0m                   \u001b[38;5;21m▂\u001b[0m\u001b[38;5;21m█\u001b[0m\u001b[38;5;21m█\u001b[0m\u001b[38;5;21m█\u001b[0m\u001b[38;5;93;48;5;21m \u001b[0m\u001b[38;5;93;48;5;21m▄\u001b[0m\u001b[38;5;93m█\u001b[0m\n",
      "        \u001b[38;5;93m█\u001b[0m\u001b[38;5;93m█\u001b[0m\u001b[38;5;93m█\u001b[0m\u001b[38;5;93;48;5;21m▄\u001b[0m\u001b[38;5;93;48;5;21m \u001b[0m\u001b[38;5;21m█\u001b[0m\u001b[38;5;21m█\u001b[0m\u001b[38;5;21m \u001b[0m                 \u001b[38;5;21m \u001b[0m\u001b[38;5;21m█\u001b[0m\u001b[38;5;21m█\u001b[0m\u001b[38;5;93;48;5;21m \u001b[0m\u001b[38;5;93;48;5;21m▄\u001b[0m\u001b[38;5;93m█\u001b[0m\u001b[38;5;93m█\u001b[0m\u001b[38;5;93m█\u001b[0m\n",
      "        \u001b[38;5;93m█\u001b[0m\u001b[38;5;93m█\u001b[0m\u001b[38;5;93m█\u001b[0m\u001b[38;5;93m█\u001b[0m\u001b[38;5;93m█\u001b[0m\u001b[38;5;93;48;5;21m▄\u001b[0m\u001b[38;5;93;48;5;21m \u001b[0m\u001b[38;5;21m█\u001b[0m                 \u001b[38;5;21m█\u001b[0m\u001b[38;5;93;48;5;21m \u001b[0m\u001b[38;5;93;48;5;21m▄\u001b[0m\u001b[38;5;93m█\u001b[0m\u001b[38;5;93m█\u001b[0m\u001b[38;5;93m█\u001b[0m\u001b[38;5;93m█\u001b[0m\u001b[38;5;93m█\u001b[0m\n",
      "        \u001b[38;5;93m█\u001b[0m\u001b[38;5;93m█\u001b[0m\u001b[38;5;93m█\u001b[0m\u001b[38;5;93m█\u001b[0m\u001b[38;5;93m█\u001b[0m\u001b[38;5;93m█\u001b[0m\u001b[38;5;93m█\u001b[0m\u001b[38;5;93;48;5;21m▄\u001b[0m\u001b[38;5;21;48;5;93m \u001b[0m \u001b[38;5;93m \u001b[0m           \u001b[38;5;93m \u001b[0m \u001b[38;5;21;48;5;93m \u001b[0m\u001b[38;5;93;48;5;21m▄\u001b[0m\u001b[38;5;93m█\u001b[0m\u001b[38;5;93m█\u001b[0m\u001b[38;5;93m█\u001b[0m\u001b[38;5;93m█\u001b[0m\u001b[38;5;93m█\u001b[0m\u001b[38;5;93m█\u001b[0m\u001b[38;5;93m█\u001b[0m\n",
      "        \u001b[38;5;93m█\u001b[0m\u001b[38;5;93m█\u001b[0m\u001b[38;5;93m█\u001b[0m\u001b[38;5;93m█\u001b[0m\u001b[38;5;93m█\u001b[0m\u001b[38;5;93m█\u001b[0m\u001b[38;5;93m█\u001b[0m\u001b[38;5;93m█\u001b[0m\u001b[38;5;21m█\u001b[0m\u001b[38;5;21;48;5;93m \u001b[0m\u001b[38;5;93m█\u001b[0m\u001b[38;5;93m▄\u001b[0m\u001b[38;5;93m \u001b[0m       \u001b[38;5;93m \u001b[0m\u001b[38;5;93m▄\u001b[0m\u001b[38;5;93m█\u001b[0m\u001b[38;5;21;48;5;93m \u001b[0m\u001b[38;5;21m█\u001b[0m\u001b[38;5;93m█\u001b[0m\u001b[38;5;93m█\u001b[0m\u001b[38;5;93m█\u001b[0m\u001b[38;5;93m█\u001b[0m\u001b[38;5;93m█\u001b[0m\u001b[38;5;93m█\u001b[0m\u001b[38;5;93m█\u001b[0m\u001b[38;5;93m█\u001b[0m\n",
      "        \u001b[38;5;93m█\u001b[0m\u001b[38;5;93m█\u001b[0m\u001b[38;5;93m█\u001b[0m\u001b[38;5;93m█\u001b[0m\u001b[38;5;93m█\u001b[0m\u001b[38;5;93m█\u001b[0m\u001b[38;5;93m█\u001b[0m\u001b[38;5;93m█\u001b[0m\u001b[38;5;21m█\u001b[0m\u001b[38;5;21m█\u001b[0m\u001b[38;5;21;48;5;93m▂\u001b[0m\u001b[38;5;93m█\u001b[0m\u001b[38;5;93m█\u001b[0m\u001b[38;5;93m▄\u001b[0m\u001b[38;5;93m \u001b[0m   \u001b[38;5;93m \u001b[0m\u001b[38;5;93m▄\u001b[0m\u001b[38;5;93m█\u001b[0m\u001b[38;5;93m█\u001b[0m\u001b[38;5;21;48;5;93m▂\u001b[0m\u001b[38;5;21m█\u001b[0m\u001b[38;5;21m█\u001b[0m\u001b[38;5;93m█\u001b[0m\u001b[38;5;93m█\u001b[0m\u001b[38;5;93m█\u001b[0m\u001b[38;5;93m█\u001b[0m\u001b[38;5;93m█\u001b[0m\u001b[38;5;93m█\u001b[0m\u001b[38;5;93m█\u001b[0m\u001b[38;5;93m█\u001b[0m\n",
      "        \u001b[38;5;93m█\u001b[0m\u001b[38;5;93m█\u001b[0m\u001b[38;5;93m█\u001b[0m\u001b[38;5;93m█\u001b[0m\u001b[38;5;93m█\u001b[0m\u001b[38;5;93m█\u001b[0m\u001b[38;5;93m█\u001b[0m\u001b[38;5;93m█\u001b[0m\u001b[38;5;21m█\u001b[0m\u001b[38;5;21m█\u001b[0m\u001b[38;5;21m█\u001b[0m\u001b[38;5;21;48;5;93m▄\u001b[0m\u001b[38;5;21;48;5;93m \u001b[0m\u001b[38;5;93m█\u001b[0m\u001b[38;5;93m█\u001b[0m   \u001b[38;5;93m█\u001b[0m\u001b[38;5;93m█\u001b[0m\u001b[38;5;21;48;5;93m \u001b[0m\u001b[38;5;21;48;5;93m▄\u001b[0m\u001b[38;5;21m█\u001b[0m\u001b[38;5;21m█\u001b[0m\u001b[38;5;21m█\u001b[0m\u001b[38;5;93m█\u001b[0m\u001b[38;5;93m█\u001b[0m\u001b[38;5;93m█\u001b[0m\u001b[38;5;93m█\u001b[0m\u001b[38;5;93m█\u001b[0m\u001b[38;5;93m█\u001b[0m\u001b[38;5;93m█\u001b[0m\u001b[38;5;93m█\u001b[0m\n",
      " 0.00   \u001b[38;5;93m█\u001b[0m\u001b[38;5;93m█\u001b[0m\u001b[38;5;93m█\u001b[0m\u001b[38;5;93m█\u001b[0m\u001b[38;5;93m█\u001b[0m\u001b[38;5;93m█\u001b[0m\u001b[38;5;93m█\u001b[0m\u001b[38;5;93m█\u001b[0m\u001b[38;5;21m█\u001b[0m\u001b[38;5;21m█\u001b[0m\u001b[38;5;21m█\u001b[0m\u001b[38;5;21m█\u001b[0m\u001b[38;5;21m█\u001b[0m\u001b[38;5;21;48;5;93m▄\u001b[0m\u001b[38;5;21;48;5;93m▂\u001b[0m\u001b[38;5;21;48;5;93m \u001b[0m\u001b[38;5;21;48;5;93m \u001b[0m\u001b[38;5;21;48;5;93m \u001b[0m\u001b[38;5;21;48;5;93m▂\u001b[0m\u001b[38;5;21;48;5;93m▄\u001b[0m\u001b[38;5;21m█\u001b[0m\u001b[38;5;21m█\u001b[0m\u001b[38;5;21m█\u001b[0m\u001b[38;5;21m█\u001b[0m\u001b[38;5;21m█\u001b[0m\u001b[38;5;93m█\u001b[0m\u001b[38;5;93m█\u001b[0m\u001b[38;5;93m█\u001b[0m\u001b[38;5;93m█\u001b[0m\u001b[38;5;93m█\u001b[0m\u001b[38;5;93m█\u001b[0m\u001b[38;5;93m█\u001b[0m\u001b[38;5;93m█\u001b[0m\n",
      "        -4.00                        4.00\n"
     ]
    }
   ],
   "source": [
    "print(blockplot(X * X, X, perzero = True, Y2 = 2. * np.abs(X)))"
   ]
  },
  {
   "cell_type": "code",
   "execution_count": null,
   "id": "32b077e1-d205-4577-a34a-26165b860872",
   "metadata": {},
   "outputs": [],
   "source": []
  }
 ],
 "metadata": {
  "kernelspec": {
   "display_name": "Python 3 (ipykernel)",
   "language": "python",
   "name": "python3"
  },
  "language_info": {
   "codemirror_mode": {
    "name": "ipython",
    "version": 3
   },
   "file_extension": ".py",
   "mimetype": "text/x-python",
   "name": "python",
   "nbconvert_exporter": "python",
   "pygments_lexer": "ipython3",
   "version": "3.12.7"
  }
 },
 "nbformat": 4,
 "nbformat_minor": 5
}
